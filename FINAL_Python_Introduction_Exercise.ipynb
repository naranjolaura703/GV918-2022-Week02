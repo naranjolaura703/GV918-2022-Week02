{
  "nbformat": 4,
  "nbformat_minor": 0,
  "metadata": {
    "colab": {
      "provenance": [],
      "collapsed_sections": [],
      "include_colab_link": true
    },
    "kernelspec": {
      "name": "python3",
      "display_name": "Python 3"
    },
    "language_info": {
      "name": "python"
    }
  },
  "cells": [
    {
      "cell_type": "markdown",
      "metadata": {
        "id": "view-in-github",
        "colab_type": "text"
      },
      "source": [
        "<a href=\"https://colab.research.google.com/github/naranjolaura703/GV918-2022-Week02/blob/main/FINAL_Python_Introduction_Exercise.ipynb\" target=\"_parent\"><img src=\"https://colab.research.google.com/assets/colab-badge.svg\" alt=\"Open In Colab\"/></a>"
      ]
    },
    {
      "cell_type": "markdown",
      "source": [
        "# Answer the following"
      ],
      "metadata": {
        "id": "TROHvJeI6Mbo"
      }
    },
    {
      "cell_type": "markdown",
      "source": [
        "## Create python scaler objects named `num1`, `num2`, `num3`, `str1`, `str2` whose contents are:\n",
        "\n",
        "- 1\n",
        "- 3\n",
        "- 101\n",
        "- \"Introduction\"\n",
        "- \"to Python\"\n",
        "\n",
        "\n",
        "\n"
      ],
      "metadata": {
        "id": "bG8jfKuA6P4E"
      }
    },
    {
      "cell_type": "code",
      "source": [
        "num1 = 1"
      ],
      "metadata": {
        "id": "b7bRA0ws6Pt0"
      },
      "execution_count": null,
      "outputs": []
    },
    {
      "cell_type": "code",
      "source": [
        "num1"
      ],
      "metadata": {
        "colab": {
          "base_uri": "https://localhost:8080/"
        },
        "id": "FVEjsELwuyqU",
        "outputId": "36c9ea8b-6ba0-44bf-af7c-bfce6737bc16"
      },
      "execution_count": null,
      "outputs": [
        {
          "output_type": "execute_result",
          "data": {
            "text/plain": [
              "1"
            ]
          },
          "metadata": {},
          "execution_count": 2
        }
      ]
    },
    {
      "cell_type": "code",
      "source": [
        "num2 = 3"
      ],
      "metadata": {
        "id": "qti8bshvuWmc"
      },
      "execution_count": null,
      "outputs": []
    },
    {
      "cell_type": "code",
      "source": [
        "num2"
      ],
      "metadata": {
        "colab": {
          "base_uri": "https://localhost:8080/"
        },
        "id": "0XNHrxfFuxGZ",
        "outputId": "7c17840f-d8e9-4b43-cd1b-1c78b214809d"
      },
      "execution_count": null,
      "outputs": [
        {
          "output_type": "execute_result",
          "data": {
            "text/plain": [
              "3"
            ]
          },
          "metadata": {},
          "execution_count": 4
        }
      ]
    },
    {
      "cell_type": "code",
      "source": [
        "num3 = 101"
      ],
      "metadata": {
        "id": "eYw4cZkpu49h"
      },
      "execution_count": null,
      "outputs": []
    },
    {
      "cell_type": "code",
      "source": [
        "num3"
      ],
      "metadata": {
        "colab": {
          "base_uri": "https://localhost:8080/"
        },
        "id": "Y6F2xcQMwUgZ",
        "outputId": "0d009c0f-9a2d-46aa-933c-6eb1c40f5514"
      },
      "execution_count": null,
      "outputs": [
        {
          "output_type": "execute_result",
          "data": {
            "text/plain": [
              "101"
            ]
          },
          "metadata": {},
          "execution_count": 6
        }
      ]
    },
    {
      "cell_type": "code",
      "source": [
        "str1 = \"Introduction\""
      ],
      "metadata": {
        "id": "aAuaDVN5wVb0"
      },
      "execution_count": null,
      "outputs": []
    },
    {
      "cell_type": "code",
      "source": [
        "str1"
      ],
      "metadata": {
        "colab": {
          "base_uri": "https://localhost:8080/",
          "height": 35
        },
        "id": "7ps0Hyn-xTv1",
        "outputId": "4530be9f-7f54-4530-feb6-91afc446a439"
      },
      "execution_count": null,
      "outputs": [
        {
          "output_type": "execute_result",
          "data": {
            "text/plain": [
              "'Introduction'"
            ],
            "application/vnd.google.colaboratory.intrinsic+json": {
              "type": "string"
            }
          },
          "metadata": {},
          "execution_count": 8
        }
      ]
    },
    {
      "cell_type": "code",
      "source": [
        "str2 = \"to Python\""
      ],
      "metadata": {
        "id": "Xz8ZCfYIxVM3"
      },
      "execution_count": null,
      "outputs": []
    },
    {
      "cell_type": "code",
      "source": [
        "str2"
      ],
      "metadata": {
        "colab": {
          "base_uri": "https://localhost:8080/",
          "height": 35
        },
        "id": "k7N9iVpJxZ49",
        "outputId": "075fa83e-3f00-41ad-e017-6b30f998474f"
      },
      "execution_count": null,
      "outputs": [
        {
          "output_type": "execute_result",
          "data": {
            "text/plain": [
              "'to Python'"
            ],
            "application/vnd.google.colaboratory.intrinsic+json": {
              "type": "string"
            }
          },
          "metadata": {},
          "execution_count": 10
        }
      ]
    },
    {
      "cell_type": "markdown",
      "source": [
        "## Do the following calculation"
      ],
      "metadata": {
        "id": "LVTJG6o76iKs"
      }
    },
    {
      "cell_type": "markdown",
      "source": [
        "```\n",
        "num1 + num2\n",
        "num1 / num2\n",
        "str1 + str2\n",
        "```"
      ],
      "metadata": {
        "id": "7KhtCZTO6uDe"
      }
    },
    {
      "cell_type": "code",
      "source": [
        "num1 + num2"
      ],
      "metadata": {
        "id": "eLu9tICq6thM",
        "colab": {
          "base_uri": "https://localhost:8080/"
        },
        "outputId": "5b07c144-78e3-499b-d9a7-e57dacc313c0"
      },
      "execution_count": null,
      "outputs": [
        {
          "output_type": "execute_result",
          "data": {
            "text/plain": [
              "4"
            ]
          },
          "metadata": {},
          "execution_count": 11
        }
      ]
    },
    {
      "cell_type": "code",
      "source": [
        "num1 / num2"
      ],
      "metadata": {
        "colab": {
          "base_uri": "https://localhost:8080/"
        },
        "id": "Gc0Igf4bxxTM",
        "outputId": "14cbeee0-b477-4407-b54a-acf082143310"
      },
      "execution_count": null,
      "outputs": [
        {
          "output_type": "execute_result",
          "data": {
            "text/plain": [
              "0.3333333333333333"
            ]
          },
          "metadata": {},
          "execution_count": 12
        }
      ]
    },
    {
      "cell_type": "code",
      "source": [
        "str1 + str2"
      ],
      "metadata": {
        "colab": {
          "base_uri": "https://localhost:8080/",
          "height": 35
        },
        "id": "wHZ1hK46xzwV",
        "outputId": "d418f172-6f21-4f7c-c58d-214eecbe198b"
      },
      "execution_count": null,
      "outputs": [
        {
          "output_type": "execute_result",
          "data": {
            "text/plain": [
              "'Introductionto Python'"
            ],
            "application/vnd.google.colaboratory.intrinsic+json": {
              "type": "string"
            }
          },
          "metadata": {},
          "execution_count": 13
        }
      ]
    },
    {
      "cell_type": "code",
      "source": [
        "str1 + \" \" + str2"
      ],
      "metadata": {
        "colab": {
          "base_uri": "https://localhost:8080/",
          "height": 35
        },
        "id": "GKRuXGKox4pD",
        "outputId": "c086319f-25bf-456a-e0ed-d368f6255fad"
      },
      "execution_count": null,
      "outputs": [
        {
          "output_type": "execute_result",
          "data": {
            "text/plain": [
              "'Introduction to Python'"
            ],
            "application/vnd.google.colaboratory.intrinsic+json": {
              "type": "string"
            }
          },
          "metadata": {},
          "execution_count": 14
        }
      ]
    },
    {
      "cell_type": "markdown",
      "source": [
        "## Generate python lists of the following\n",
        "\n",
        "- sequence of integers from 1 to 10\n",
        "- sequence of letters from a to g\n",
        "  - you can try `string.ascii_lowercase`"
      ],
      "metadata": {
        "id": "A2I0PFDt7H-p"
      }
    },
    {
      "cell_type": "code",
      "source": [
        "list_a = [1, 2, 3, 4, 5, 6, 7, 8, 9, 10]"
      ],
      "metadata": {
        "id": "uA8mvqGpzE26"
      },
      "execution_count": null,
      "outputs": []
    },
    {
      "cell_type": "code",
      "source": [
        "list_b = [\"a\", \"b\", \"c\", \"d\", \"e\", \"f\", \"g\"]"
      ],
      "metadata": {
        "id": "3-oKUG_fzgoh"
      },
      "execution_count": null,
      "outputs": []
    },
    {
      "cell_type": "markdown",
      "source": [
        "## From the list above, estract the following:\n",
        "\n",
        "```\n",
        "[1, 2, 3, 4, 5]\n",
        "[4, 5, 6]\n",
        "['c', 'd', 'e']\n",
        "\n",
        "```"
      ],
      "metadata": {
        "id": "af8B-RFn7v3f"
      }
    },
    {
      "cell_type": "code",
      "source": [
        "list_a[0:5]"
      ],
      "metadata": {
        "id": "eoBnUnE97iuZ",
        "colab": {
          "base_uri": "https://localhost:8080/"
        },
        "outputId": "46511b98-7bef-4c4e-d3a7-18f39fabdf58"
      },
      "execution_count": null,
      "outputs": [
        {
          "output_type": "execute_result",
          "data": {
            "text/plain": [
              "[1, 2, 3, 4, 5]"
            ]
          },
          "metadata": {},
          "execution_count": 17
        }
      ]
    },
    {
      "cell_type": "code",
      "source": [
        "list_a[3:6]"
      ],
      "metadata": {
        "colab": {
          "base_uri": "https://localhost:8080/"
        },
        "id": "pgAsuZNU0rmD",
        "outputId": "2944f616-7b4e-4dc2-b14d-a7c2300cd6ac"
      },
      "execution_count": null,
      "outputs": [
        {
          "output_type": "execute_result",
          "data": {
            "text/plain": [
              "[4, 5, 6]"
            ]
          },
          "metadata": {},
          "execution_count": 18
        }
      ]
    },
    {
      "cell_type": "code",
      "source": [
        "list_b[2:5]"
      ],
      "metadata": {
        "colab": {
          "base_uri": "https://localhost:8080/"
        },
        "id": "YiDFiJ9405mN",
        "outputId": "a4c2ed2d-2386-4d17-d251-fa47991946ac"
      },
      "execution_count": null,
      "outputs": [
        {
          "output_type": "execute_result",
          "data": {
            "text/plain": [
              "['c', 'd', 'e']"
            ]
          },
          "metadata": {},
          "execution_count": 19
        }
      ]
    },
    {
      "cell_type": "markdown",
      "source": [
        "## Loop (and list comprehension)\n",
        "\n",
        "For the list below, do the following:\n",
        "\n",
        "1. Print each element using `for` loop\n",
        "2. Calculate the sum of the elements using `for` loop\n",
        "3. Print elements which are even numbers (using `%`, `for` and `if`)\n",
        "  - `%` is an remainder caclulation operator\n",
        "4. Create a new list with odd numbers in `list_x` \n",
        "  1. create a blank list (`new_list = []`\n",
        "  2. construct a for loop\n",
        "  2. append an element if even (use `list.append()`)\n",
        "5. Do the same operation as **4.** with list comprehension\n"
      ],
      "metadata": {
        "id": "isK_KRpJ9FqC"
      }
    },
    {
      "cell_type": "code",
      "source": [
        "list_x = [0, 3, 6, 9, 12, 15, 18, 21, 24, 27, 30, 33, 36, 39, 42, 45, 48]"
      ],
      "metadata": {
        "id": "_6ML4YjK6h79"
      },
      "execution_count": null,
      "outputs": []
    },
    {
      "cell_type": "code",
      "source": [
        "#1. Print each element using `for` loop:\n",
        "\n",
        "for k in list_x:\n",
        "  print(k)"
      ],
      "metadata": {
        "colab": {
          "base_uri": "https://localhost:8080/"
        },
        "id": "1U7fqWlx11xH",
        "outputId": "808415b7-8035-45e6-db23-94bf85e16065"
      },
      "execution_count": null,
      "outputs": [
        {
          "output_type": "stream",
          "name": "stdout",
          "text": [
            "0\n",
            "3\n",
            "6\n",
            "9\n",
            "12\n",
            "15\n",
            "18\n",
            "21\n",
            "24\n",
            "27\n",
            "30\n",
            "33\n",
            "36\n",
            "39\n",
            "42\n",
            "45\n",
            "48\n"
          ]
        }
      ]
    },
    {
      "cell_type": "code",
      "source": [],
      "metadata": {
        "id": "tMes2t3r2Wfa"
      },
      "execution_count": null,
      "outputs": []
    },
    {
      "cell_type": "code",
      "source": [
        "for k in list_x:\n",
        "  print(k)\n",
        "  j = k + k\n",
        "  print(j)\n",
        "  print(\"---\")"
      ],
      "metadata": {
        "colab": {
          "base_uri": "https://localhost:8080/"
        },
        "id": "4VjcjG0X2zGo",
        "outputId": "8770a30e-e86d-4f91-f989-26cceb537e40"
      },
      "execution_count": null,
      "outputs": [
        {
          "output_type": "stream",
          "name": "stdout",
          "text": [
            "0\n",
            "0\n",
            "---\n",
            "3\n",
            "6\n",
            "---\n",
            "6\n",
            "12\n",
            "---\n",
            "9\n",
            "18\n",
            "---\n",
            "12\n",
            "24\n",
            "---\n",
            "15\n",
            "30\n",
            "---\n",
            "18\n",
            "36\n",
            "---\n",
            "21\n",
            "42\n",
            "---\n",
            "24\n",
            "48\n",
            "---\n",
            "27\n",
            "54\n",
            "---\n",
            "30\n",
            "60\n",
            "---\n",
            "33\n",
            "66\n",
            "---\n",
            "36\n",
            "72\n",
            "---\n",
            "39\n",
            "78\n",
            "---\n",
            "42\n",
            "84\n",
            "---\n",
            "45\n",
            "90\n",
            "---\n",
            "48\n",
            "96\n",
            "---\n"
          ]
        }
      ]
    },
    {
      "cell_type": "code",
      "source": [
        "(4 % 2) == 0"
      ],
      "metadata": {
        "colab": {
          "base_uri": "https://localhost:8080/"
        },
        "id": "7_5DpGcc9wrG",
        "outputId": "8eb4948a-48e4-4cc2-91fe-1b9cfe1232e9"
      },
      "execution_count": null,
      "outputs": [
        {
          "output_type": "execute_result",
          "data": {
            "text/plain": [
              "True"
            ]
          },
          "metadata": {},
          "execution_count": 23
        }
      ]
    },
    {
      "cell_type": "code",
      "source": [
        "for k in list_x:\n",
        "  if (k % 2) == 0:\n",
        "    print(k, \"even\")\n",
        "  else:\n",
        "    pass"
      ],
      "metadata": {
        "colab": {
          "base_uri": "https://localhost:8080/"
        },
        "id": "ZrSbiqb53Rpk",
        "outputId": "4155dbef-0b42-49f5-db7e-565168986f1e"
      },
      "execution_count": null,
      "outputs": [
        {
          "output_type": "stream",
          "name": "stdout",
          "text": [
            "0 even\n",
            "6 even\n",
            "12 even\n",
            "18 even\n",
            "24 even\n",
            "30 even\n",
            "36 even\n",
            "42 even\n",
            "48 even\n"
          ]
        }
      ]
    },
    {
      "cell_type": "code",
      "source": [
        "#Create a new list with odd numbers in `list_x` \n",
        "#  1. create a blank list (`new_list = []`\n",
        "#  2. construct a for loop\n",
        "#  3. append an element if even (use `list.append()`)\n",
        "\n",
        "list_odd = [] #lista vacia\n",
        "\n",
        "for k in list_x:\n",
        "  if (k % 2) != 0:\n",
        "    list_odd.append(k)"
      ],
      "metadata": {
        "id": "q_fmwlZF-cR_"
      },
      "execution_count": null,
      "outputs": []
    },
    {
      "cell_type": "code",
      "source": [
        "list_odd"
      ],
      "metadata": {
        "colab": {
          "base_uri": "https://localhost:8080/"
        },
        "id": "3Rq2n-fwA-l-",
        "outputId": "259e9a27-8934-41ab-abfc-a0d80361b444"
      },
      "execution_count": null,
      "outputs": [
        {
          "output_type": "execute_result",
          "data": {
            "text/plain": [
              "[3, 9, 15, 21, 27, 33, 39, 45]"
            ]
          },
          "metadata": {},
          "execution_count": 40
        }
      ]
    },
    {
      "cell_type": "code",
      "source": [
        "list_odd = []\n",
        "[list_odd.append(k) for k in list_x if (k % 2) != 0]\n",
        "list_odd"
      ],
      "metadata": {
        "colab": {
          "base_uri": "https://localhost:8080/"
        },
        "id": "REFh_ZlX_Iqt",
        "outputId": "dbe4257f-0628-4143-b809-90268a2b37d0"
      },
      "execution_count": null,
      "outputs": [
        {
          "output_type": "execute_result",
          "data": {
            "text/plain": [
              "[3, 9, 15, 21, 27, 33, 39, 45]"
            ]
          },
          "metadata": {},
          "execution_count": 43
        }
      ]
    },
    {
      "cell_type": "markdown",
      "source": [
        "## Function: Write following functions\n",
        "\n",
        "- a function to multiply two numbers\n",
        "- a function to sum numbers in a list\n",
        "- a function to find the max in a list\n",
        "\n",
        "\n"
      ],
      "metadata": {
        "id": "PwbVDwQI9aGM"
      }
    },
    {
      "cell_type": "code",
      "source": [
        "def multiply(x, y):\n",
        "  z = x * y\n",
        "  return(z) "
      ],
      "metadata": {
        "id": "D6AVNx6PI2JS"
      },
      "execution_count": null,
      "outputs": []
    },
    {
      "cell_type": "code",
      "source": [
        "multiply(x = 4, y = 2)\n",
        "multiply(4, 2)"
      ],
      "metadata": {
        "colab": {
          "base_uri": "https://localhost:8080/"
        },
        "id": "g2uZRjcm6thJ",
        "outputId": "f2c4e343-88b3-47f9-b11a-646736f7eb55"
      },
      "execution_count": null,
      "outputs": [
        {
          "output_type": "execute_result",
          "data": {
            "text/plain": [
              "8"
            ]
          },
          "metadata": {},
          "execution_count": 49
        }
      ]
    },
    {
      "cell_type": "code",
      "source": [
        "# a function to sum numbers in a list"
      ],
      "metadata": {
        "id": "uGCfR-gOGQXM"
      },
      "execution_count": 1,
      "outputs": []
    },
    {
      "cell_type": "code",
      "source": [
        "def addition(a,b):\n",
        "  c = a + b\n",
        "  return(c)"
      ],
      "metadata": {
        "id": "fORGTbDx_1Cz"
      },
      "execution_count": 2,
      "outputs": []
    },
    {
      "cell_type": "code",
      "source": [
        "addition(50, 100)"
      ],
      "metadata": {
        "colab": {
          "base_uri": "https://localhost:8080/"
        },
        "id": "7Xiq9zm-AE9L",
        "outputId": "0e877218-a5fe-407d-d5a5-4a15ae2859e5"
      },
      "execution_count": 3,
      "outputs": [
        {
          "output_type": "execute_result",
          "data": {
            "text/plain": [
              "150"
            ]
          },
          "metadata": {},
          "execution_count": 3
        }
      ]
    },
    {
      "cell_type": "code",
      "source": [],
      "metadata": {
        "id": "PcUvE_NkALRJ"
      },
      "execution_count": null,
      "outputs": []
    },
    {
      "cell_type": "code",
      "source": [
        "list_d = [1, 4, 7, 2]\n",
        "for j in list_d:\n",
        "  print(j)"
      ],
      "metadata": {
        "id": "XMwYGIthJPwg",
        "colab": {
          "base_uri": "https://localhost:8080/"
        },
        "outputId": "2a2f5d0c-54de-459b-ac56-cebd4fae9662"
      },
      "execution_count": null,
      "outputs": [
        {
          "output_type": "stream",
          "name": "stdout",
          "text": [
            "1\n",
            "4\n",
            "7\n",
            "2\n"
          ]
        }
      ]
    },
    {
      "cell_type": "code",
      "source": [
        "# heights = [100, 2, 300, 10, 11, 1000]\n",
        "# largest_number = heights[0]\n",
        "# for number in heights:\n",
        "#     if number > largest_number:\n",
        "#        largest_number = number\n",
        "# print(largest_number)\n",
        "\n",
        "largest_number = list_d[0]\n",
        "for number in list_d:\n",
        "  if number > largest_number: \n",
        "    largest_number = number\n",
        "print(largest_number)\n",
        "\n"
      ],
      "metadata": {
        "colab": {
          "base_uri": "https://localhost:8080/"
        },
        "id": "K6NWcBChEIOt",
        "outputId": "09b322bd-3cd1-4397-cdfe-bf0b9e3893cb"
      },
      "execution_count": null,
      "outputs": [
        {
          "output_type": "stream",
          "name": "stdout",
          "text": [
            "7\n"
          ]
        }
      ]
    }
  ]
}