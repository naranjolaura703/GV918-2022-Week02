{
  "nbformat": 4,
  "nbformat_minor": 0,
  "metadata": {
    "colab": {
      "provenance": [],
      "collapsed_sections": [],
      "toc_visible": true
    },
    "kernelspec": {
      "name": "python3",
      "display_name": "Python 3"
    },
    "language_info": {
      "name": "python"
    }
  },
  "cells": [
    {
      "cell_type": "markdown",
      "source": [
        "# Answer the following"
      ],
      "metadata": {
        "id": "TROHvJeI6Mbo"
      }
    },
    {
      "cell_type": "markdown",
      "source": [
        "## Create python scaler objects named `num1`, `num2`, `num3`, `str1`, `str2` whose contents are:\n",
        "\n",
        "- 1\n",
        "- 3\n",
        "- 101\n",
        "- \"Introduction\"\n",
        "- \"to Python\"\n",
        "\n",
        "\n",
        "\n"
      ],
      "metadata": {
        "id": "bG8jfKuA6P4E"
      }
    },
    {
      "cell_type": "code",
      "source": [
        "num1 = 1"
      ],
      "metadata": {
        "id": "b7bRA0ws6Pt0"
      },
      "execution_count": 5,
      "outputs": []
    },
    {
      "cell_type": "code",
      "source": [
        "num1"
      ],
      "metadata": {
        "id": "FVEjsELwuyqU",
        "outputId": "1dc4f823-abc1-4b20-8605-ff81b953b6d4",
        "colab": {
          "base_uri": "https://localhost:8080/"
        }
      },
      "execution_count": 6,
      "outputs": [
        {
          "output_type": "execute_result",
          "data": {
            "text/plain": [
              "1"
            ]
          },
          "metadata": {},
          "execution_count": 6
        }
      ]
    },
    {
      "cell_type": "code",
      "source": [
        "num2 = 3"
      ],
      "metadata": {
        "id": "qti8bshvuWmc"
      },
      "execution_count": 4,
      "outputs": []
    },
    {
      "cell_type": "code",
      "source": [
        "num2"
      ],
      "metadata": {
        "id": "0XNHrxfFuxGZ",
        "outputId": "1b5daa0f-6621-44df-84e7-b76e938a87cc",
        "colab": {
          "base_uri": "https://localhost:8080/"
        }
      },
      "execution_count": 7,
      "outputs": [
        {
          "output_type": "execute_result",
          "data": {
            "text/plain": [
              "3"
            ]
          },
          "metadata": {},
          "execution_count": 7
        }
      ]
    },
    {
      "cell_type": "code",
      "source": [],
      "metadata": {
        "id": "eYw4cZkpu49h"
      },
      "execution_count": null,
      "outputs": []
    },
    {
      "cell_type": "markdown",
      "source": [
        "## Do the following calculation"
      ],
      "metadata": {
        "id": "LVTJG6o76iKs"
      }
    },
    {
      "cell_type": "markdown",
      "source": [
        "```\n",
        "num1 + num2\n",
        "num1 / num2\n",
        "str1 + str2\n",
        "```"
      ],
      "metadata": {
        "id": "7KhtCZTO6uDe"
      }
    },
    {
      "cell_type": "code",
      "source": [],
      "metadata": {
        "id": "eLu9tICq6thM"
      },
      "execution_count": null,
      "outputs": []
    },
    {
      "cell_type": "markdown",
      "source": [
        "## Generate python lists of the following\n",
        "\n",
        "- sequence of integers from 1 to 10\n",
        "- sequence of letters from a to g\n",
        "  - you can try `string.ascii_lowercase`"
      ],
      "metadata": {
        "id": "A2I0PFDt7H-p"
      }
    },
    {
      "cell_type": "code",
      "source": [],
      "metadata": {
        "id": "sjeBQvP5FSvi"
      },
      "execution_count": null,
      "outputs": []
    },
    {
      "cell_type": "markdown",
      "source": [
        "## From the list above, estract the following:\n",
        "\n",
        "```\n",
        "[1, 2, 3, 4, 5]\n",
        "[4, 5, 6]\n",
        "['c', 'd', 'e']\n",
        "\n",
        "```"
      ],
      "metadata": {
        "id": "af8B-RFn7v3f"
      }
    },
    {
      "cell_type": "code",
      "source": [],
      "metadata": {
        "id": "eoBnUnE97iuZ"
      },
      "execution_count": null,
      "outputs": []
    },
    {
      "cell_type": "code",
      "source": [],
      "metadata": {
        "id": "gVirDXtC9GIf"
      },
      "execution_count": null,
      "outputs": []
    },
    {
      "cell_type": "markdown",
      "source": [
        "## Loop (and list comprehension)\n",
        "\n",
        "For the list below, do the following:\n",
        "\n",
        "1. Print each element using `for` loop\n",
        "2. Calculate the sum of the elements using `for` loop\n",
        "3. Print elements which are even numbers (using `%`, `for` and `if`)\n",
        "  - `%` is an remainder caclulation operator\n",
        "4. Create a new list with odd numbers in `list_x` \n",
        "  1. create a blank list (`new_list = []`\n",
        "  2. construct a for loop\n",
        "  2. append an element if even (use `list.append()`)\n",
        "5. Do the same operation as **4.** with list comprehension\n"
      ],
      "metadata": {
        "id": "isK_KRpJ9FqC"
      }
    },
    {
      "cell_type": "code",
      "source": [
        "list_x = [0, 3, 6, 9, 12, 15, 18, 21, 24, 27, 30, 33, 36, 39, 42, 45, 48]"
      ],
      "metadata": {
        "id": "_6ML4YjK6h79"
      },
      "execution_count": null,
      "outputs": []
    },
    {
      "cell_type": "markdown",
      "source": [
        "## Function: Write following functions\n",
        "\n",
        "- a function to multiply two numbers\n",
        "- a function to sum numbers in a list\n",
        "- a function to find the max in a list\n",
        "\n",
        "\n"
      ],
      "metadata": {
        "id": "PwbVDwQI9aGM"
      }
    },
    {
      "cell_type": "code",
      "source": [],
      "metadata": {
        "id": "7q54IUz66MI8"
      },
      "execution_count": null,
      "outputs": []
    },
    {
      "cell_type": "code",
      "execution_count": null,
      "metadata": {
        "id": "9CJsaQEP6IDe"
      },
      "outputs": [],
      "source": []
    }
  ]
}