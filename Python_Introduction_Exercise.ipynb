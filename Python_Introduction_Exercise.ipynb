{
  "nbformat": 4,
  "nbformat_minor": 0,
  "metadata": {
    "colab": {
      "provenance": [],
      "collapsed_sections": [],
      "toc_visible": true
    },
    "kernelspec": {
      "name": "python3",
      "display_name": "Python 3"
    },
    "language_info": {
      "name": "python"
    }
  },
  "cells": [
    {
      "cell_type": "markdown",
      "source": [
        "# Answer the following"
      ],
      "metadata": {
        "id": "TROHvJeI6Mbo"
      }
    },
    {
      "cell_type": "markdown",
      "source": [
        "## Create python scaler objects named `num1`, `num2`, `num3`, `str1`, `str2` whose contents are:\n",
        "\n",
        "- 1\n",
        "- 3\n",
        "- 101\n",
        "- \"Introduction\"\n",
        "- \"to Python\"\n",
        "\n",
        "\n",
        "\n"
      ],
      "metadata": {
        "id": "bG8jfKuA6P4E"
      }
    },
    {
      "cell_type": "code",
      "source": [
        "num1 = 1"
      ],
      "metadata": {
        "id": "b7bRA0ws6Pt0"
      },
      "execution_count": 5,
      "outputs": []
    },
    {
      "cell_type": "code",
      "source": [
        "num1"
      ],
      "metadata": {
        "colab": {
          "base_uri": "https://localhost:8080/"
        },
        "id": "FVEjsELwuyqU",
        "outputId": "1dc4f823-abc1-4b20-8605-ff81b953b6d4"
      },
      "execution_count": 6,
      "outputs": [
        {
          "output_type": "execute_result",
          "data": {
            "text/plain": [
              "1"
            ]
          },
          "metadata": {},
          "execution_count": 6
        }
      ]
    },
    {
      "cell_type": "code",
      "source": [
        "num2 = 3"
      ],
      "metadata": {
        "id": "qti8bshvuWmc"
      },
      "execution_count": 4,
      "outputs": []
    },
    {
      "cell_type": "code",
      "source": [
        "num2"
      ],
      "metadata": {
        "colab": {
          "base_uri": "https://localhost:8080/"
        },
        "id": "0XNHrxfFuxGZ",
        "outputId": "1b5daa0f-6621-44df-84e7-b76e938a87cc"
      },
      "execution_count": 7,
      "outputs": [
        {
          "output_type": "execute_result",
          "data": {
            "text/plain": [
              "3"
            ]
          },
          "metadata": {},
          "execution_count": 7
        }
      ]
    },
    {
      "cell_type": "code",
      "source": [
        "num3 = 101"
      ],
      "metadata": {
        "id": "eYw4cZkpu49h"
      },
      "execution_count": 8,
      "outputs": []
    },
    {
      "cell_type": "code",
      "source": [
        "num3"
      ],
      "metadata": {
        "colab": {
          "base_uri": "https://localhost:8080/"
        },
        "id": "Y6F2xcQMwUgZ",
        "outputId": "ca722ec5-d6a8-4e75-b318-934990f02627"
      },
      "execution_count": 9,
      "outputs": [
        {
          "output_type": "execute_result",
          "data": {
            "text/plain": [
              "101"
            ]
          },
          "metadata": {},
          "execution_count": 9
        }
      ]
    },
    {
      "cell_type": "code",
      "source": [
        "str1 = \"Introduction\""
      ],
      "metadata": {
        "id": "aAuaDVN5wVb0"
      },
      "execution_count": 10,
      "outputs": []
    },
    {
      "cell_type": "code",
      "source": [
        "str1"
      ],
      "metadata": {
        "colab": {
          "base_uri": "https://localhost:8080/",
          "height": 35
        },
        "id": "7ps0Hyn-xTv1",
        "outputId": "2e022049-ff51-47ad-8b65-3536ca424881"
      },
      "execution_count": 11,
      "outputs": [
        {
          "output_type": "execute_result",
          "data": {
            "text/plain": [
              "'Introduction'"
            ],
            "application/vnd.google.colaboratory.intrinsic+json": {
              "type": "string"
            }
          },
          "metadata": {},
          "execution_count": 11
        }
      ]
    },
    {
      "cell_type": "code",
      "source": [
        "str2 = \"to Python\""
      ],
      "metadata": {
        "id": "Xz8ZCfYIxVM3"
      },
      "execution_count": 12,
      "outputs": []
    },
    {
      "cell_type": "code",
      "source": [
        "str2"
      ],
      "metadata": {
        "colab": {
          "base_uri": "https://localhost:8080/",
          "height": 35
        },
        "id": "k7N9iVpJxZ49",
        "outputId": "9c40ef40-00a6-46c0-a8b1-be6872afe625"
      },
      "execution_count": 13,
      "outputs": [
        {
          "output_type": "execute_result",
          "data": {
            "text/plain": [
              "'to Python'"
            ],
            "application/vnd.google.colaboratory.intrinsic+json": {
              "type": "string"
            }
          },
          "metadata": {},
          "execution_count": 13
        }
      ]
    },
    {
      "cell_type": "markdown",
      "source": [
        "## Do the following calculation"
      ],
      "metadata": {
        "id": "LVTJG6o76iKs"
      }
    },
    {
      "cell_type": "markdown",
      "source": [
        "```\n",
        "num1 + num2\n",
        "num1 / num2\n",
        "str1 + str2\n",
        "```"
      ],
      "metadata": {
        "id": "7KhtCZTO6uDe"
      }
    },
    {
      "cell_type": "code",
      "source": [
        "num1 + num2"
      ],
      "metadata": {
        "id": "eLu9tICq6thM",
        "colab": {
          "base_uri": "https://localhost:8080/"
        },
        "outputId": "c8532320-b31c-4897-cd28-50a234df0e3a"
      },
      "execution_count": 16,
      "outputs": [
        {
          "output_type": "execute_result",
          "data": {
            "text/plain": [
              "4"
            ]
          },
          "metadata": {},
          "execution_count": 16
        }
      ]
    },
    {
      "cell_type": "code",
      "source": [
        "num1 / num2"
      ],
      "metadata": {
        "colab": {
          "base_uri": "https://localhost:8080/"
        },
        "id": "Gc0Igf4bxxTM",
        "outputId": "922526b5-b3af-4f8e-9850-9cb011c58aaf"
      },
      "execution_count": 17,
      "outputs": [
        {
          "output_type": "execute_result",
          "data": {
            "text/plain": [
              "0.3333333333333333"
            ]
          },
          "metadata": {},
          "execution_count": 17
        }
      ]
    },
    {
      "cell_type": "code",
      "source": [
        "str1 + str2"
      ],
      "metadata": {
        "colab": {
          "base_uri": "https://localhost:8080/",
          "height": 35
        },
        "id": "wHZ1hK46xzwV",
        "outputId": "7a525917-6323-48d1-a5df-d083b025a9f0"
      },
      "execution_count": 18,
      "outputs": [
        {
          "output_type": "execute_result",
          "data": {
            "text/plain": [
              "'Introductionto Python'"
            ],
            "application/vnd.google.colaboratory.intrinsic+json": {
              "type": "string"
            }
          },
          "metadata": {},
          "execution_count": 18
        }
      ]
    },
    {
      "cell_type": "code",
      "source": [
        "str1 + \" \" + str2"
      ],
      "metadata": {
        "colab": {
          "base_uri": "https://localhost:8080/",
          "height": 35
        },
        "id": "GKRuXGKox4pD",
        "outputId": "d9fbb421-4972-4612-bb4e-01447cb7ff33"
      },
      "execution_count": 19,
      "outputs": [
        {
          "output_type": "execute_result",
          "data": {
            "text/plain": [
              "'Introduction to Python'"
            ],
            "application/vnd.google.colaboratory.intrinsic+json": {
              "type": "string"
            }
          },
          "metadata": {},
          "execution_count": 19
        }
      ]
    },
    {
      "cell_type": "markdown",
      "source": [
        "## Generate python lists of the following\n",
        "\n",
        "- sequence of integers from 1 to 10\n",
        "- sequence of letters from a to g\n",
        "  - you can try `string.ascii_lowercase`"
      ],
      "metadata": {
        "id": "A2I0PFDt7H-p"
      }
    },
    {
      "cell_type": "code",
      "source": [
        "list_a = [1, 2, 3, 4, 5, 6, 7, 8, 9, 10]"
      ],
      "metadata": {
        "id": "uA8mvqGpzE26"
      },
      "execution_count": 23,
      "outputs": []
    },
    {
      "cell_type": "code",
      "source": [
        "list_b = [\"a\", \"b\", \"c\", \"d\", \"e\", \"f\", \"g\"]"
      ],
      "metadata": {
        "id": "3-oKUG_fzgoh"
      },
      "execution_count": 35,
      "outputs": []
    },
    {
      "cell_type": "markdown",
      "source": [
        "## From the list above, estract the following:\n",
        "\n",
        "```\n",
        "[1, 2, 3, 4, 5]\n",
        "[4, 5, 6]\n",
        "['c', 'd', 'e']\n",
        "\n",
        "```"
      ],
      "metadata": {
        "id": "af8B-RFn7v3f"
      }
    },
    {
      "cell_type": "code",
      "source": [
        "list_a[0:5]"
      ],
      "metadata": {
        "id": "eoBnUnE97iuZ",
        "colab": {
          "base_uri": "https://localhost:8080/"
        },
        "outputId": "0cac4c39-f5c9-47ff-d062-51e270dd0e9e"
      },
      "execution_count": 31,
      "outputs": [
        {
          "output_type": "execute_result",
          "data": {
            "text/plain": [
              "[1, 2, 3, 4, 5]"
            ]
          },
          "metadata": {},
          "execution_count": 31
        }
      ]
    },
    {
      "cell_type": "code",
      "source": [
        "list_a[3:6]"
      ],
      "metadata": {
        "colab": {
          "base_uri": "https://localhost:8080/"
        },
        "id": "pgAsuZNU0rmD",
        "outputId": "3d46924a-a238-4c2a-8809-8d420154e072"
      },
      "execution_count": 34,
      "outputs": [
        {
          "output_type": "execute_result",
          "data": {
            "text/plain": [
              "[4, 5, 6]"
            ]
          },
          "metadata": {},
          "execution_count": 34
        }
      ]
    },
    {
      "cell_type": "code",
      "source": [
        "list_b[2:5]"
      ],
      "metadata": {
        "colab": {
          "base_uri": "https://localhost:8080/"
        },
        "id": "YiDFiJ9405mN",
        "outputId": "cef97afe-b198-40a2-a96b-7ddeca6d2805"
      },
      "execution_count": 37,
      "outputs": [
        {
          "output_type": "execute_result",
          "data": {
            "text/plain": [
              "['c', 'd', 'e']"
            ]
          },
          "metadata": {},
          "execution_count": 37
        }
      ]
    },
    {
      "cell_type": "markdown",
      "source": [
        "## Loop (and list comprehension)\n",
        "\n",
        "For the list below, do the following:\n",
        "\n",
        "1. Print each element using `for` loop\n",
        "2. Calculate the sum of the elements using `for` loop\n",
        "3. Print elements which are even numbers (using `%`, `for` and `if`)\n",
        "  - `%` is an remainder caclulation operator\n",
        "4. Create a new list with odd numbers in `list_x` \n",
        "  1. create a blank list (`new_list = []`\n",
        "  2. construct a for loop\n",
        "  2. append an element if even (use `list.append()`)\n",
        "5. Do the same operation as **4.** with list comprehension\n"
      ],
      "metadata": {
        "id": "isK_KRpJ9FqC"
      }
    },
    {
      "cell_type": "code",
      "source": [
        "list_x = [0, 3, 6, 9, 12, 15, 18, 21, 24, 27, 30, 33, 36, 39, 42, 45, 48]"
      ],
      "metadata": {
        "id": "_6ML4YjK6h79"
      },
      "execution_count": 38,
      "outputs": []
    },
    {
      "cell_type": "code",
      "source": [
        "for k in list_x:\n",
        "  print(k)"
      ],
      "metadata": {
        "colab": {
          "base_uri": "https://localhost:8080/"
        },
        "id": "1U7fqWlx11xH",
        "outputId": "15741a1c-0eea-4d3a-aada-e92635bb42ad"
      },
      "execution_count": 44,
      "outputs": [
        {
          "output_type": "stream",
          "name": "stdout",
          "text": [
            "0\n",
            "3\n",
            "6\n",
            "9\n",
            "12\n",
            "15\n",
            "18\n",
            "21\n",
            "24\n",
            "27\n",
            "30\n",
            "33\n",
            "36\n",
            "39\n",
            "42\n",
            "45\n",
            "48\n"
          ]
        }
      ]
    },
    {
      "cell_type": "code",
      "source": [
        "for k in list_x:\n",
        "  print(k)\n",
        "  j = k + k\n",
        "  print(j)\n",
        "  print(\"---\")"
      ],
      "metadata": {
        "colab": {
          "base_uri": "https://localhost:8080/"
        },
        "id": "4VjcjG0X2zGo",
        "outputId": "379a9945-1464-40ea-defe-903d6a4f036a"
      },
      "execution_count": 46,
      "outputs": [
        {
          "output_type": "stream",
          "name": "stdout",
          "text": [
            "0\n",
            "0\n",
            "---\n",
            "3\n",
            "6\n",
            "---\n",
            "6\n",
            "12\n",
            "---\n",
            "9\n",
            "18\n",
            "---\n",
            "12\n",
            "24\n",
            "---\n",
            "15\n",
            "30\n",
            "---\n",
            "18\n",
            "36\n",
            "---\n",
            "21\n",
            "42\n",
            "---\n",
            "24\n",
            "48\n",
            "---\n",
            "27\n",
            "54\n",
            "---\n",
            "30\n",
            "60\n",
            "---\n",
            "33\n",
            "66\n",
            "---\n",
            "36\n",
            "72\n",
            "---\n",
            "39\n",
            "78\n",
            "---\n",
            "42\n",
            "84\n",
            "---\n",
            "45\n",
            "90\n",
            "---\n",
            "48\n",
            "96\n",
            "---\n"
          ]
        }
      ]
    },
    {
      "cell_type": "code",
      "source": [
        "for k in list_x:\n",
        "  if k % 2 == 0:\n",
        "  print(\"even\")"
      ],
      "metadata": {
        "colab": {
          "base_uri": "https://localhost:8080/",
          "height": 130
        },
        "id": "ZrSbiqb53Rpk",
        "outputId": "4e54884d-96ce-41d0-c066-d9a92dc64b39"
      },
      "execution_count": 55,
      "outputs": [
        {
          "output_type": "error",
          "ename": "IndentationError",
          "evalue": "ignored",
          "traceback": [
            "\u001b[0;36m  File \u001b[0;32m\"<ipython-input-55-cc8bbfef5bcd>\"\u001b[0;36m, line \u001b[0;32m3\u001b[0m\n\u001b[0;31m    print(\"even\")\u001b[0m\n\u001b[0m        ^\u001b[0m\n\u001b[0;31mIndentationError\u001b[0m\u001b[0;31m:\u001b[0m expected an indented block\n"
          ]
        }
      ]
    },
    {
      "cell_type": "code",
      "source": [
        "list_y = [3, 9, 15, 21, 27, 33, 39, 45]"
      ],
      "metadata": {
        "id": "soi5RmEU6sne"
      },
      "execution_count": 57,
      "outputs": []
    },
    {
      "cell_type": "code",
      "source": [
        "for a in list_y:\n",
        "  print(a)"
      ],
      "metadata": {
        "colab": {
          "base_uri": "https://localhost:8080/"
        },
        "id": "xjsZ0xadGXvG",
        "outputId": "4175c9b3-3386-462a-9d10-6636bd545249"
      },
      "execution_count": 58,
      "outputs": [
        {
          "output_type": "stream",
          "name": "stdout",
          "text": [
            "3\n",
            "9\n",
            "15\n",
            "21\n",
            "27\n",
            "33\n",
            "39\n",
            "45\n"
          ]
        }
      ]
    },
    {
      "cell_type": "code",
      "source": [],
      "metadata": {
        "id": "da2yPKuZHRL_"
      },
      "execution_count": null,
      "outputs": []
    },
    {
      "cell_type": "markdown",
      "source": [
        "## Function: Write following functions\n",
        "\n",
        "- a function to multiply two numbers\n",
        "- a function to sum numbers in a list\n",
        "- a function to find the max in a list\n",
        "\n",
        "\n"
      ],
      "metadata": {
        "id": "PwbVDwQI9aGM"
      }
    },
    {
      "cell_type": "code",
      "source": [
        "def my_func(x)\n",
        "x = x * 2\n",
        "return(x)"
      ],
      "metadata": {
        "colab": {
          "base_uri": "https://localhost:8080/",
          "height": 130
        },
        "id": "D6AVNx6PI2JS",
        "outputId": "88753150-fa46-4469-d765-5c3c734f9c3f"
      },
      "execution_count": 64,
      "outputs": [
        {
          "output_type": "error",
          "ename": "SyntaxError",
          "evalue": "ignored",
          "traceback": [
            "\u001b[0;36m  File \u001b[0;32m\"<ipython-input-64-673b2c904824>\"\u001b[0;36m, line \u001b[0;32m1\u001b[0m\n\u001b[0;31m    def my_func(x)\u001b[0m\n\u001b[0m                  ^\u001b[0m\n\u001b[0;31mSyntaxError\u001b[0m\u001b[0;31m:\u001b[0m invalid syntax\n"
          ]
        }
      ]
    },
    {
      "cell_type": "code",
      "source": [
        "list_d = [1, 4, 7, 2]"
      ],
      "metadata": {
        "id": "XMwYGIthJPwg"
      },
      "execution_count": 66,
      "outputs": []
    },
    {
      "cell_type": "code",
      "source": [
        "list_f = [8, 9, 10, 11]"
      ],
      "metadata": {
        "id": "3fz7zr7CJdtu"
      },
      "execution_count": 67,
      "outputs": []
    },
    {
      "cell_type": "code",
      "source": [],
      "metadata": {
        "id": "UJv1otGsJ6nM"
      },
      "execution_count": null,
      "outputs": []
    }
  ]
}